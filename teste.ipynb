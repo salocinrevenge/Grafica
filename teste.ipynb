{
 "cells": [
  {
   "attachments": {},
   "cell_type": "markdown",
   "metadata": {},
   "source": [
    "Cor principal: 186,139,157\n",
    "\n",
    "Cor da borda: 255,161,247"
   ]
  },
  {
   "cell_type": "code",
   "execution_count": null,
   "metadata": {},
   "outputs": [],
   "source": [
    "!pip install plotly\n",
    "!pip install matplotlib\n",
    "!pip install scikit-learn\n",
    "!pip install tqdm"
   ]
  },
  {
   "cell_type": "code",
   "execution_count": null,
   "metadata": {},
   "outputs": [],
   "source": [
    "# Ler a imagem e mostrar na tela\n",
    "\n",
    "import numpy as np\n",
    "import matplotlib.pyplot as plt\n",
    "from PIL import Image\n",
    "\n",
    "# Carregar a imagem\n",
    "image_path = 'polem4Pares.jpg'\n",
    "image = Image.open(image_path)\n",
    "\n",
    "# Converter a imagem em um vetor NumPy 3D\n",
    "image_array = np.array(image)\n",
    "\n",
    "print(image_array)"
   ]
  },
  {
   "cell_type": "code",
   "execution_count": null,
   "metadata": {},
   "outputs": [],
   "source": [
    "import plotly.graph_objects as go\n",
    "\n",
    "# Exibir a imagem com matplotlib\n",
    "plt.imshow(image_array)\n",
    "plt.axis('off')  # Desativar os eixos\n",
    "plt.show()"
   ]
  },
  {
   "attachments": {},
   "cell_type": "markdown",
   "metadata": {},
   "source": [
    "# Analisando\n",
    "\n",
    "Para poder analisar apenas a região do pólem, vamos aplicar um filtro para apenas analisar os pontos com os tons da região desejada (rosa). Assim será criada uma máscara"
   ]
  },
  {
   "cell_type": "code",
   "execution_count": null,
   "metadata": {},
   "outputs": [],
   "source": [
    "# Definir a cor de referência\n",
    "reference_color = np.array([186, 139, 157])\n",
    "\n",
    "# Calcular a distância euclidiana para cada ponto da imagem\n",
    "distances_center = np.linalg.norm(image_array - reference_color, axis=2)\n",
    "\n",
    "# Criar um vetor binário baseado na distância euclidiana\n",
    "binary_array_center = distances_center < 15   # Altere esse valor para ver o resultado\n",
    "\n",
    "# Exibir o vetor binário\n",
    "plt.imshow(binary_array_center, cmap='gray')\n",
    "plt.axis('off')\n",
    "plt.show()"
   ]
  },
  {
   "attachments": {},
   "cell_type": "markdown",
   "metadata": {},
   "source": [
    "Há conjuntos dispersos, mas a maior concentração está sobre a região desejada\n",
    "\n",
    "## Agora analisando com a cor da borda"
   ]
  },
  {
   "cell_type": "code",
   "execution_count": null,
   "metadata": {},
   "outputs": [],
   "source": [
    "# Definir a cor de referência\n",
    "reference_color = np.array([255,161,247])\n",
    "\n",
    "# Calcular a distância euclidiana para cada ponto da imagem\n",
    "distances_edge = np.linalg.norm(image_array - reference_color, axis=2)\n",
    "\n",
    "# Criar um vetor binário baseado na distância euclidiana\n",
    "binary_array_edge = distances_edge < 50   # Altere esse valor para ver o resultado\n",
    "\n",
    "# Exibir o vetor binário\n",
    "plt.imshow(binary_array_edge, cmap='gray')\n",
    "plt.axis('off')\n",
    "plt.show()"
   ]
  },
  {
   "attachments": {},
   "cell_type": "markdown",
   "metadata": {},
   "source": [
    "O resultado concentra todos os pontos na borda desejada, mas ela não está completa"
   ]
  },
  {
   "attachments": {},
   "cell_type": "markdown",
   "metadata": {},
   "source": [
    "# Contando os grupos com DBSCAN\n",
    "\n",
    "Através desse algoritmo, é possível definir quantos pontos cada ponto do conjunto deve possuir em sua região para ser considerado e tembém o tamanho da região\n",
    "\n",
    "## Para o conjunto interno:"
   ]
  },
  {
   "cell_type": "code",
   "execution_count": null,
   "metadata": {},
   "outputs": [],
   "source": [
    "from sklearn.cluster import DBSCAN\n",
    "\n",
    "# Suponha que o vetor binário esteja calculado e armazenado em binary_array\n",
    "\n",
    "# Obter as coordenadas dos pontos brancos (True) no vetor binário\n",
    "white_points = np.argwhere(binary_array_center)\n",
    "\n",
    "# Executar o algoritmo DBSCAN\n",
    "epsilon = 20  # Raio da vizinhança # Altere esse valor para ver o resultado\n",
    "min_samples = 80  # Número mínimo de amostras para formar um cluster # Altere esse valor para ver o resultado\n",
    "dbscan = DBSCAN(eps=epsilon, min_samples=min_samples)\n",
    "labels = dbscan.fit_predict(white_points)\n",
    "\n",
    "print(f\"O número de manchas encontradas foi de {labels.max()+1}\")"
   ]
  },
  {
   "cell_type": "code",
   "execution_count": null,
   "metadata": {},
   "outputs": [],
   "source": [
    "# Criar a figura do Matplotlib\n",
    "fig, ax = plt.subplots()\n",
    "\n",
    "# Adicionar a imagem original ao plot\n",
    "ax.imshow(image_array, alpha=0.2)\n",
    "\n",
    "# Adicionar os pontos do DBSCAN ao plot\n",
    "scatter = ax.scatter(\n",
    "    white_points[:, 1],\n",
    "    white_points[:, 0],\n",
    "    c=labels,\n",
    "    cmap='viridis',\n",
    "    s=3\n",
    ")\n",
    "\n",
    "# Configurar o layout\n",
    "ax.set_xticks([])\n",
    "ax.set_yticks([])\n",
    "ax.margins(0.05, 0.05)\n",
    "\n",
    "# Criar uma barra de cores\n",
    "cbar = plt.colorbar(scatter)\n",
    "cbar.set_label('Labels')\n",
    "\n",
    "# Exibir o plot\n",
    "plt.show()\n"
   ]
  },
  {
   "cell_type": "code",
   "execution_count": null,
   "metadata": {},
   "outputs": [],
   "source": [
    "import numpy as np\n",
    "import matplotlib.pyplot as plt\n",
    "from sklearn.cluster import DBSCAN\n",
    "from matplotlib.lines import Line2D\n",
    "\n",
    "# Suponha que o vetor binário esteja calculado e armazenado em binary_array\n",
    "\n",
    "# Obter as coordenadas dos pontos brancos (True) no vetor binário\n",
    "white_points = np.argwhere(binary_array_edge)\n",
    "\n",
    "# Executar o algoritmo DBSCAN \n",
    "epsilon = 40  # Raio da vizinhança # Altere esse valor para ver o resultado\n",
    "min_samples = 20  # Número mínimo de amostras para formar um cluster # Altere esse valor para ver o resultado\n",
    "dbscan = DBSCAN(eps=epsilon, min_samples=min_samples)\n",
    "labels = dbscan.fit_predict(white_points)\n",
    "\n",
    "print(f\"O número de manchas encontradas foi de {labels.max()+1}\")"
   ]
  },
  {
   "cell_type": "code",
   "execution_count": null,
   "metadata": {},
   "outputs": [],
   "source": [
    "# Converter a imagem em um vetor NumPy 3D com opacidade de 20%\n",
    "image_array_with_opacity = np.concatenate([image_array, np.full_like(image_array[..., :1], 51)], axis=2)\n",
    "\n",
    "# Criar a figura do Matplotlib\n",
    "fig, ax = plt.subplots()\n",
    "\n",
    "# Adicionar a imagem original ao plot com opacidade de 20%\n",
    "ax.imshow(image_array_with_opacity)\n",
    "\n",
    "# Adicionar os pontos do DBSCAN ao plot\n",
    "scatter = ax.scatter(\n",
    "    white_points[:, 1],\n",
    "    white_points[:, 0],\n",
    "    c=labels,\n",
    "    cmap='viridis',\n",
    "    s=3\n",
    ")\n",
    "\n",
    "# Configurar o layout\n",
    "ax.set_xticks([])\n",
    "ax.set_yticks([])\n",
    "ax.margins(0.05, 0.05)\n",
    "\n",
    "# Criar uma barra de cores\n",
    "cbar = plt.colorbar(scatter)\n",
    "cbar.set_label('Labels')\n",
    "\n",
    "# Exibir o plot\n",
    "plt.show()\n"
   ]
  }
 ],
 "metadata": {
  "kernelspec": {
   "display_name": "Python 3",
   "language": "python",
   "name": "python3"
  },
  "language_info": {
   "codemirror_mode": {
    "name": "ipython",
    "version": 3
   },
   "file_extension": ".py",
   "mimetype": "text/x-python",
   "name": "python",
   "nbconvert_exporter": "python",
   "pygments_lexer": "ipython3",
   "version": "3.11.0"
  },
  "orig_nbformat": 4
 },
 "nbformat": 4,
 "nbformat_minor": 2
}
